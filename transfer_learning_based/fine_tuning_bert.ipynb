{
 "cells": [
  {
   "cell_type": "markdown",
   "id": "9c3345db",
   "metadata": {},
   "source": [
    "# **Project Description:Customer Feedback Sentiment Predictor**\n",
    " \n",
    "# **Data Description**:\n",
    "\n",
    "- A sentiment analysis job about the customer feedback\n",
    "- Feedback talks about different IT Services, Infrastructure etc.\n",
    "\n",
    "# **Dataset**:\n",
    "\n",
    "- Contains two columns \"review\" & \"label\"\n",
    "    - review : Customer Feedback about the Product and the Service\n",
    "    - label : '1' for Negative and '0' for Positive\n",
    "\n",
    "# **Objective**:\n",
    "\n",
    "- To fine tune existing DistilBERT Model\n",
    "\n",
    "# **Steps Applied**:\n",
    "\n",
    "- Data Transformation\n",
    "- Configuring Modeling Parameters\n",
    "- Persisting Model & Tokenizer"
   ]
  },
  {
   "cell_type": "code",
   "execution_count": 2,
   "id": "3a5a307a",
   "metadata": {},
   "outputs": [
    {
     "name": "stdout",
     "output_type": "stream",
     "text": [
      "Collecting datasets\n",
      "  Downloading datasets-2.2.2-py3-none-any.whl (346 kB)\n",
      "     |████████████████████████████████| 346 kB 2.2 MB/s            \n",
      "\u001b[?25hRequirement already satisfied: transformers in /Users/anchitsaxena/Downloads/miniforge3/envs/mlp/lib/python3.8/site-packages (4.15.0)\n",
      "Requirement already satisfied: huggingface_hub in /Users/anchitsaxena/Downloads/miniforge3/envs/mlp/lib/python3.8/site-packages (0.4.0)\n",
      "Collecting responses<0.19\n",
      "  Downloading responses-0.18.0-py3-none-any.whl (38 kB)\n",
      "Collecting dill<0.3.5\n",
      "  Downloading dill-0.3.4-py2.py3-none-any.whl (86 kB)\n",
      "     |████████████████████████████████| 86 kB 9.0 MB/s             \n",
      "\u001b[?25hCollecting xxhash\n",
      "  Downloading xxhash-3.0.0-cp38-cp38-macosx_11_0_arm64.whl (30 kB)\n",
      "Requirement already satisfied: packaging in /Users/anchitsaxena/Downloads/miniforge3/envs/mlp/lib/python3.8/site-packages (from datasets) (21.3)\n",
      "Collecting multiprocess\n",
      "  Downloading multiprocess-0.70.13-py38-none-any.whl (131 kB)\n",
      "     |████████████████████████████████| 131 kB 3.6 MB/s            \n",
      "\u001b[?25hRequirement already satisfied: numpy>=1.17 in /Users/anchitsaxena/Downloads/miniforge3/envs/mlp/lib/python3.8/site-packages (from datasets) (1.22.3)\n",
      "Requirement already satisfied: tqdm>=4.62.1 in /Users/anchitsaxena/Downloads/miniforge3/envs/mlp/lib/python3.8/site-packages (from datasets) (4.62.3)\n",
      "Requirement already satisfied: aiohttp in /Users/anchitsaxena/Downloads/miniforge3/envs/mlp/lib/python3.8/site-packages (from datasets) (3.8.1)\n",
      "Collecting fsspec[http]>=2021.05.0\n",
      "  Downloading fsspec-2022.5.0-py3-none-any.whl (140 kB)\n",
      "     |████████████████████████████████| 140 kB 6.0 MB/s            \n",
      "\u001b[?25hRequirement already satisfied: requests>=2.19.0 in /Users/anchitsaxena/Downloads/miniforge3/envs/mlp/lib/python3.8/site-packages (from datasets) (2.26.0)\n",
      "Collecting pyarrow>=6.0.0\n",
      "  Downloading pyarrow-8.0.0-cp38-cp38-macosx_11_0_arm64.whl (16.2 MB)\n",
      "     |████████████████████████████████| 16.2 MB 3.2 MB/s            \n",
      "\u001b[?25hRequirement already satisfied: pandas in /Users/anchitsaxena/Downloads/miniforge3/envs/mlp/lib/python3.8/site-packages (from datasets) (1.3.4)\n",
      "Requirement already satisfied: filelock in /Users/anchitsaxena/Downloads/miniforge3/envs/mlp/lib/python3.8/site-packages (from transformers) (3.4.2)\n",
      "Requirement already satisfied: sacremoses in /Users/anchitsaxena/Downloads/miniforge3/envs/mlp/lib/python3.8/site-packages/sacremoses-0.0.43-py3.8.egg (from transformers) (0.0.43)\n",
      "Requirement already satisfied: regex!=2019.12.17 in /Users/anchitsaxena/Downloads/miniforge3/envs/mlp/lib/python3.8/site-packages (from transformers) (2021.11.10)\n",
      "Requirement already satisfied: tokenizers<0.11,>=0.10.1 in /Users/anchitsaxena/Downloads/miniforge3/envs/mlp/lib/python3.8/site-packages (from transformers) (0.10.3)\n",
      "Requirement already satisfied: pyyaml>=5.1 in /Users/anchitsaxena/Downloads/miniforge3/envs/mlp/lib/python3.8/site-packages (from transformers) (6.0)\n",
      "Requirement already satisfied: typing-extensions>=3.7.4.3 in /Users/anchitsaxena/Downloads/miniforge3/envs/mlp/lib/python3.8/site-packages (from huggingface_hub) (3.7.4.3)\n",
      "Requirement already satisfied: pyparsing!=3.0.5,>=2.0.2 in /Users/anchitsaxena/Downloads/miniforge3/envs/mlp/lib/python3.8/site-packages (from packaging->datasets) (3.0.6)\n",
      "Requirement already satisfied: certifi>=2017.4.17 in /Users/anchitsaxena/Downloads/miniforge3/envs/mlp/lib/python3.8/site-packages (from requests>=2.19.0->datasets) (2022.5.18.1)\n",
      "Requirement already satisfied: urllib3<1.27,>=1.21.1 in /Users/anchitsaxena/Downloads/miniforge3/envs/mlp/lib/python3.8/site-packages (from requests>=2.19.0->datasets) (1.26.7)\n",
      "Requirement already satisfied: charset-normalizer~=2.0.0 in /Users/anchitsaxena/Downloads/miniforge3/envs/mlp/lib/python3.8/site-packages (from requests>=2.19.0->datasets) (2.0.9)\n",
      "Requirement already satisfied: idna<4,>=2.5 in /Users/anchitsaxena/Downloads/miniforge3/envs/mlp/lib/python3.8/site-packages (from requests>=2.19.0->datasets) (3.1)\n",
      "Requirement already satisfied: async-timeout<5.0,>=4.0.0a3 in /Users/anchitsaxena/Downloads/miniforge3/envs/mlp/lib/python3.8/site-packages (from aiohttp->datasets) (4.0.1)\n",
      "Requirement already satisfied: frozenlist>=1.1.1 in /Users/anchitsaxena/Downloads/miniforge3/envs/mlp/lib/python3.8/site-packages (from aiohttp->datasets) (1.2.0)\n",
      "Requirement already satisfied: attrs>=17.3.0 in /Users/anchitsaxena/Downloads/miniforge3/envs/mlp/lib/python3.8/site-packages (from aiohttp->datasets) (21.2.0)\n",
      "Requirement already satisfied: yarl<2.0,>=1.0 in /Users/anchitsaxena/Downloads/miniforge3/envs/mlp/lib/python3.8/site-packages (from aiohttp->datasets) (1.7.2)\n",
      "Requirement already satisfied: aiosignal>=1.1.2 in /Users/anchitsaxena/Downloads/miniforge3/envs/mlp/lib/python3.8/site-packages (from aiohttp->datasets) (1.2.0)\n",
      "Requirement already satisfied: multidict<7.0,>=4.5 in /Users/anchitsaxena/Downloads/miniforge3/envs/mlp/lib/python3.8/site-packages (from aiohttp->datasets) (5.2.0)\n",
      "Collecting multiprocess\n",
      "  Downloading multiprocess-0.70.12.2-py38-none-any.whl (128 kB)\n",
      "     |████████████████████████████████| 128 kB 1.7 MB/s            \n",
      "\u001b[?25hRequirement already satisfied: python-dateutil>=2.7.3 in /Users/anchitsaxena/Downloads/miniforge3/envs/mlp/lib/python3.8/site-packages (from pandas->datasets) (2.8.2)\n",
      "Requirement already satisfied: pytz>=2017.3 in /Users/anchitsaxena/Downloads/miniforge3/envs/mlp/lib/python3.8/site-packages (from pandas->datasets) (2021.3)\n",
      "Requirement already satisfied: six in /Users/anchitsaxena/Downloads/miniforge3/envs/mlp/lib/python3.8/site-packages (from sacremoses->transformers) (1.15.0)\n",
      "Requirement already satisfied: click in /Users/anchitsaxena/Downloads/miniforge3/envs/mlp/lib/python3.8/site-packages (from sacremoses->transformers) (8.0.3)\n",
      "Requirement already satisfied: joblib in /Users/anchitsaxena/Downloads/miniforge3/envs/mlp/lib/python3.8/site-packages (from sacremoses->transformers) (1.1.0)\n",
      "Installing collected packages: fsspec, dill, xxhash, responses, pyarrow, multiprocess, datasets\n",
      "Successfully installed datasets-2.2.2 dill-0.3.4 fsspec-2022.5.0 multiprocess-0.70.12.2 pyarrow-8.0.0 responses-0.18.0 xxhash-3.0.0\n"
     ]
    }
   ],
   "source": [
    "!pip install datasets transformers huggingface_hub\n",
    "\n",
    "from datasets import load_dataset, load_metric\n",
    "from transformers import AutoTokenizer\n",
    "from transformers import DataCollatorWithPadding\n",
    "from transformers import AutoModelForSequenceClassification\n",
    "from transformers import TrainingArguments, Trainer\n",
    "\n",
    "from sklearn.model_selection import train_test_split\n",
    "\n",
    "import numpy as np"
   ]
  },
  {
   "cell_type": "code",
   "execution_count": 225,
   "id": "14833a7c",
   "metadata": {},
   "outputs": [
    {
     "name": "stderr",
     "output_type": "stream",
     "text": [
      "loading configuration file https://huggingface.co/distilbert-base-uncased-finetuned-sst-2-english/resolve/main/config.json from cache at /Users/anchitsaxena/.cache/huggingface/transformers/4e60bb8efad3d4b7dc9969bf204947c185166a0a3cf37ddb6f481a876a3777b5.9f8326d0b7697c7fd57366cdde57032f46bc10e37ae81cb7eb564d66d23ec96b\n",
      "Model config DistilBertConfig {\n",
      "  \"_name_or_path\": \"distilbert-base-uncased-finetuned-sst-2-english\",\n",
      "  \"activation\": \"gelu\",\n",
      "  \"architectures\": [\n",
      "    \"DistilBertForSequenceClassification\"\n",
      "  ],\n",
      "  \"attention_dropout\": 0.1,\n",
      "  \"dim\": 768,\n",
      "  \"dropout\": 0.1,\n",
      "  \"finetuning_task\": \"sst-2\",\n",
      "  \"hidden_dim\": 3072,\n",
      "  \"id2label\": {\n",
      "    \"0\": \"NEGATIVE\",\n",
      "    \"1\": \"POSITIVE\"\n",
      "  },\n",
      "  \"initializer_range\": 0.02,\n",
      "  \"label2id\": {\n",
      "    \"NEGATIVE\": 0,\n",
      "    \"POSITIVE\": 1\n",
      "  },\n",
      "  \"max_position_embeddings\": 512,\n",
      "  \"model_type\": \"distilbert\",\n",
      "  \"n_heads\": 12,\n",
      "  \"n_layers\": 6,\n",
      "  \"output_past\": true,\n",
      "  \"pad_token_id\": 0,\n",
      "  \"qa_dropout\": 0.1,\n",
      "  \"seq_classif_dropout\": 0.2,\n",
      "  \"sinusoidal_pos_embds\": false,\n",
      "  \"tie_weights_\": true,\n",
      "  \"transformers_version\": \"4.15.0\",\n",
      "  \"vocab_size\": 30522\n",
      "}\n",
      "\n",
      "loading file https://huggingface.co/distilbert-base-uncased-finetuned-sst-2-english/resolve/main/vocab.txt from cache at /Users/anchitsaxena/.cache/huggingface/transformers/83261b0c74c462e53d6367de0646b1fca07d0f15f1be045156b9cf8c71279cc9.d789d64ebfe299b0e416afc4a169632f903f693095b4629a7ea271d5a0cf2c99\n",
      "loading file https://huggingface.co/distilbert-base-uncased-finetuned-sst-2-english/resolve/main/tokenizer.json from cache at None\n",
      "loading file https://huggingface.co/distilbert-base-uncased-finetuned-sst-2-english/resolve/main/added_tokens.json from cache at None\n",
      "loading file https://huggingface.co/distilbert-base-uncased-finetuned-sst-2-english/resolve/main/special_tokens_map.json from cache at None\n",
      "loading file https://huggingface.co/distilbert-base-uncased-finetuned-sst-2-english/resolve/main/tokenizer_config.json from cache at /Users/anchitsaxena/.cache/huggingface/transformers/d44ec0488a5f13d92b3934cb68cc5849bd74ce63ede2eea2bf3c675e1e57297c.627f9558061e7bc67ed0f516b2f7efc1351772cc8553101f08748d44aada8b11\n",
      "loading configuration file https://huggingface.co/distilbert-base-uncased-finetuned-sst-2-english/resolve/main/config.json from cache at /Users/anchitsaxena/.cache/huggingface/transformers/4e60bb8efad3d4b7dc9969bf204947c185166a0a3cf37ddb6f481a876a3777b5.9f8326d0b7697c7fd57366cdde57032f46bc10e37ae81cb7eb564d66d23ec96b\n",
      "Model config DistilBertConfig {\n",
      "  \"_name_or_path\": \"distilbert-base-uncased-finetuned-sst-2-english\",\n",
      "  \"activation\": \"gelu\",\n",
      "  \"architectures\": [\n",
      "    \"DistilBertForSequenceClassification\"\n",
      "  ],\n",
      "  \"attention_dropout\": 0.1,\n",
      "  \"dim\": 768,\n",
      "  \"dropout\": 0.1,\n",
      "  \"finetuning_task\": \"sst-2\",\n",
      "  \"hidden_dim\": 3072,\n",
      "  \"id2label\": {\n",
      "    \"0\": \"NEGATIVE\",\n",
      "    \"1\": \"POSITIVE\"\n",
      "  },\n",
      "  \"initializer_range\": 0.02,\n",
      "  \"label2id\": {\n",
      "    \"NEGATIVE\": 0,\n",
      "    \"POSITIVE\": 1\n",
      "  },\n",
      "  \"max_position_embeddings\": 512,\n",
      "  \"model_type\": \"distilbert\",\n",
      "  \"n_heads\": 12,\n",
      "  \"n_layers\": 6,\n",
      "  \"output_past\": true,\n",
      "  \"pad_token_id\": 0,\n",
      "  \"qa_dropout\": 0.1,\n",
      "  \"seq_classif_dropout\": 0.2,\n",
      "  \"sinusoidal_pos_embds\": false,\n",
      "  \"tie_weights_\": true,\n",
      "  \"transformers_version\": \"4.15.0\",\n",
      "  \"vocab_size\": 30522\n",
      "}\n",
      "\n",
      "loading configuration file https://huggingface.co/distilbert-base-uncased-finetuned-sst-2-english/resolve/main/config.json from cache at /Users/anchitsaxena/.cache/huggingface/transformers/4e60bb8efad3d4b7dc9969bf204947c185166a0a3cf37ddb6f481a876a3777b5.9f8326d0b7697c7fd57366cdde57032f46bc10e37ae81cb7eb564d66d23ec96b\n",
      "Model config DistilBertConfig {\n",
      "  \"_name_or_path\": \"distilbert-base-uncased-finetuned-sst-2-english\",\n",
      "  \"activation\": \"gelu\",\n",
      "  \"architectures\": [\n",
      "    \"DistilBertForSequenceClassification\"\n",
      "  ],\n",
      "  \"attention_dropout\": 0.1,\n",
      "  \"dim\": 768,\n",
      "  \"dropout\": 0.1,\n",
      "  \"finetuning_task\": \"sst-2\",\n",
      "  \"hidden_dim\": 3072,\n",
      "  \"id2label\": {\n",
      "    \"0\": \"NEGATIVE\",\n",
      "    \"1\": \"POSITIVE\"\n",
      "  },\n",
      "  \"initializer_range\": 0.02,\n",
      "  \"label2id\": {\n",
      "    \"NEGATIVE\": 0,\n",
      "    \"POSITIVE\": 1\n",
      "  },\n",
      "  \"max_position_embeddings\": 512,\n",
      "  \"model_type\": \"distilbert\",\n",
      "  \"n_heads\": 12,\n",
      "  \"n_layers\": 6,\n",
      "  \"output_past\": true,\n",
      "  \"pad_token_id\": 0,\n",
      "  \"qa_dropout\": 0.1,\n",
      "  \"seq_classif_dropout\": 0.2,\n",
      "  \"sinusoidal_pos_embds\": false,\n",
      "  \"tie_weights_\": true,\n",
      "  \"transformers_version\": \"4.15.0\",\n",
      "  \"vocab_size\": 30522\n",
      "}\n",
      "\n"
     ]
    }
   ],
   "source": [
    "tokenizer = AutoTokenizer.from_pretrained(\"distilbert-base-uncased-finetuned-sst-2-english\")"
   ]
  },
  {
   "cell_type": "code",
   "execution_count": 151,
   "id": "05bfee21",
   "metadata": {},
   "outputs": [],
   "source": [
    "def read_analyze_data(datafile):\n",
    "    \"\"\"\n",
    "    Read the Data File and Log the Dimension\n",
    "    Count and Drop Null Values\n",
    "    \n",
    "    datafile : Source Data File\n",
    "    data : Returns non-null df\n",
    "    \"\"\"\n",
    "    data = pd.read_csv(datafile)\n",
    "    logging.info(str(data.shape))\n",
    "    logging.info(str(data.isnull().sum(axis=0)))\n",
    "    data.dropna(inplace=True)\n",
    "    return data"
   ]
  },
  {
   "cell_type": "code",
   "execution_count": 152,
   "id": "3b5aae22",
   "metadata": {},
   "outputs": [],
   "source": [
    "data = read_analyze_data('review_data.csv')"
   ]
  },
  {
   "cell_type": "code",
   "execution_count": 153,
   "id": "19d8da21",
   "metadata": {},
   "outputs": [],
   "source": [
    "def feature_engg(data):\n",
    "    X = data['review']\n",
    "    y = data['label']\n",
    "    \"\"\"\n",
    "    Replace \"0\" with Negatives and \"1\" with Positives\n",
    "    because DistilBERT has been trained in such a fashion\n",
    "    \"\"\"\n",
    "    y = y.replace(1,2)\n",
    "    y = y.replace(0,1)\n",
    "    y = y.replace(2,0)\n",
    "    return X,y"
   ]
  },
  {
   "cell_type": "code",
   "execution_count": 218,
   "id": "db2b1ebc",
   "metadata": {},
   "outputs": [],
   "source": [
    "def split_data(X, y, test_ratio):\n",
    "    \"\"\"\n",
    "    Split the Dataset into Train,Test\n",
    "    \"\"\"\n",
    "    X_train, X_test, y_train, y_test = train_test_split(X, y, \\\n",
    "                test_size=test_ratio, random_state=42, stratify=y)\n",
    "    return X_train, X_test, y_train, y_test"
   ]
  },
  {
   "cell_type": "code",
   "execution_count": 220,
   "id": "05e24d4b",
   "metadata": {},
   "outputs": [],
   "source": [
    "def transform_to_dataset(X_train, X_test, y_train, y_test):\n",
    "    \"\"\"\n",
    "    Convert data to Dataset to exhibit Fine-Tuning.\n",
    "    This also includes renaming 'review' to 'text'\n",
    "    \"\"\"\n",
    "    small_train_dataset = pd.DataFrame()\n",
    "    small_test_dataset = pd.DataFrame()\n",
    "    small_train_dataset['text'] = X_train\n",
    "    small_train_dataset['label'] = y_train\n",
    "    small_test_dataset['text'] = X_test\n",
    "    small_test_dataset['label'] = y_test\n",
    "    train_dataset = Dataset.from_pandas(small_train_dataset)\n",
    "    test_dataset = Dataset.from_pandas(small_test_dataset)\n",
    "    return train_dataset, test_dataset\n",
    "    "
   ]
  },
  {
   "cell_type": "code",
   "execution_count": 222,
   "id": "cd04e089",
   "metadata": {},
   "outputs": [],
   "source": [
    "def remove_unwanted_key(train_dataset, test_dataset):\n",
    "    \"\"\"\n",
    "    Remove irrelevant keys from the Dataset\n",
    "    \"\"\"\n",
    "    train_dataset = train_dataset.remove_columns('__index_level_0__')\n",
    "    test_dataset = test_dataset.remove_columns('__index_level_0__')\n",
    "    return train_dataset, test_dataset\n",
    "    "
   ]
  },
  {
   "cell_type": "code",
   "execution_count": 223,
   "id": "a391e49f",
   "metadata": {},
   "outputs": [],
   "source": [
    "X, y = feature_engg(data)\n",
    "X_train, X_test, y_train, y_test = split_data(X, y, 0.3)\n",
    "train_dataset, test_dataset = transform_to_dataset(X_train, X_test, y_train, y_test)"
   ]
  },
  {
   "cell_type": "code",
   "execution_count": 236,
   "id": "a58f63ae",
   "metadata": {},
   "outputs": [
    {
     "data": {
      "application/vnd.jupyter.widget-view+json": {
       "model_id": "e19f2973efc8424f84e3c7e1c5f944bb",
       "version_major": 2,
       "version_minor": 0
      },
      "text/plain": [
       "  0%|          | 0/3 [00:00<?, ?ba/s]"
      ]
     },
     "metadata": {},
     "output_type": "display_data"
    },
    {
     "data": {
      "application/vnd.jupyter.widget-view+json": {
       "model_id": "d65f199301df492e88d659e76cc30651",
       "version_major": 2,
       "version_minor": 0
      },
      "text/plain": [
       "  0%|          | 0/2 [00:00<?, ?ba/s]"
      ]
     },
     "metadata": {},
     "output_type": "display_data"
    }
   ],
   "source": [
    "def preprocess_function(examples):\n",
    "    return tokenizer(examples['text'], truncation=True)\n",
    " \n",
    "tokenized_train = train_dataset.map(preprocess_function, batched=True)\n",
    "tokenized_test = test_dataset.map(preprocess_function, batched=True)"
   ]
  },
  {
   "cell_type": "markdown",
   "id": "1aad9499",
   "metadata": {},
   "source": [
    "### MODELING PARAMETERS INLINE FOR FINE-TUNING"
   ]
  },
  {
   "cell_type": "code",
   "execution_count": 229,
   "id": "be07f13e",
   "metadata": {},
   "outputs": [],
   "source": [
    "data_collator = DataCollatorWithPadding(tokenizer=tokenizer)"
   ]
  },
  {
   "cell_type": "code",
   "execution_count": 237,
   "id": "ad235a2b",
   "metadata": {},
   "outputs": [
    {
     "name": "stderr",
     "output_type": "stream",
     "text": [
      "loading configuration file https://huggingface.co/distilbert-base-uncased-finetuned-sst-2-english/resolve/main/config.json from cache at /Users/anchitsaxena/.cache/huggingface/transformers/4e60bb8efad3d4b7dc9969bf204947c185166a0a3cf37ddb6f481a876a3777b5.9f8326d0b7697c7fd57366cdde57032f46bc10e37ae81cb7eb564d66d23ec96b\n",
      "Model config DistilBertConfig {\n",
      "  \"_name_or_path\": \"distilbert-base-uncased-finetuned-sst-2-english\",\n",
      "  \"activation\": \"gelu\",\n",
      "  \"architectures\": [\n",
      "    \"DistilBertForSequenceClassification\"\n",
      "  ],\n",
      "  \"attention_dropout\": 0.1,\n",
      "  \"dim\": 768,\n",
      "  \"dropout\": 0.1,\n",
      "  \"finetuning_task\": \"sst-2\",\n",
      "  \"hidden_dim\": 3072,\n",
      "  \"id2label\": {\n",
      "    \"0\": \"NEGATIVE\",\n",
      "    \"1\": \"POSITIVE\"\n",
      "  },\n",
      "  \"initializer_range\": 0.02,\n",
      "  \"label2id\": {\n",
      "    \"NEGATIVE\": 0,\n",
      "    \"POSITIVE\": 1\n",
      "  },\n",
      "  \"max_position_embeddings\": 512,\n",
      "  \"model_type\": \"distilbert\",\n",
      "  \"n_heads\": 12,\n",
      "  \"n_layers\": 6,\n",
      "  \"output_past\": true,\n",
      "  \"pad_token_id\": 0,\n",
      "  \"qa_dropout\": 0.1,\n",
      "  \"seq_classif_dropout\": 0.2,\n",
      "  \"sinusoidal_pos_embds\": false,\n",
      "  \"tie_weights_\": true,\n",
      "  \"transformers_version\": \"4.15.0\",\n",
      "  \"vocab_size\": 30522\n",
      "}\n",
      "\n",
      "loading weights file https://huggingface.co/distilbert-base-uncased-finetuned-sst-2-english/resolve/main/pytorch_model.bin from cache at /Users/anchitsaxena/.cache/huggingface/transformers/8d04c767d9d4c14d929ce7ad8e067b80c74dbdb212ef4c3fb743db4ee109fae0.9d268a35da669ead745c44d369dc9948b408da5010c6bac414414a7e33d5748c\n",
      "All model checkpoint weights were used when initializing DistilBertForSequenceClassification.\n",
      "\n",
      "All the weights of DistilBertForSequenceClassification were initialized from the model checkpoint at distilbert-base-uncased-finetuned-sst-2-english.\n",
      "If your task is similar to the task the model of the checkpoint was trained on, you can already use DistilBertForSequenceClassification for predictions without further training.\n"
     ]
    }
   ],
   "source": [
    "model = AutoModelForSequenceClassification.from_pretrained(\"distilbert-base-uncased-finetuned-sst-2-english\", num_labels=2)"
   ]
  },
  {
   "cell_type": "code",
   "execution_count": 238,
   "id": "a6cdbb85",
   "metadata": {},
   "outputs": [],
   "source": [
    "def compute_metrics(eval_pred):\n",
    "    \"\"\"\n",
    "    Compute the Metrics on Test Dataset \n",
    "    \"\"\"\n",
    "    load_accuracy = load_metric(\"accuracy\")\n",
    "    load_f1 = load_metric(\"f1\")\n",
    "  \n",
    "    logits, labels = eval_pred\n",
    "    predictions = np.argmax(logits, axis=-1)\n",
    "    accuracy = load_accuracy.compute(predictions=predictions, references=labels)[\"accuracy\"]\n",
    "    f1 = load_f1.compute(predictions=predictions, references=labels)[\"f1\"]\n",
    "    return {\"accuracy\": accuracy, \"f1\": f1}"
   ]
  },
  {
   "cell_type": "markdown",
   "id": "0d491fe6",
   "metadata": {},
   "source": [
    "### Modeling Configurations"
   ]
  },
  {
   "cell_type": "code",
   "execution_count": 240,
   "id": "93462f83",
   "metadata": {},
   "outputs": [
    {
     "name": "stderr",
     "output_type": "stream",
     "text": [
      "PyTorch: setting up devices\n",
      "The default value for the training argument `--report_to` will change in v5 (from all installed integrations to none). In v5, you will need to use `--report_to all` to get the same behavior as now. You should start updating your code and make this info disappear :-).\n"
     ]
    }
   ],
   "source": [
    "repo_name = \"finetuning-sentiment-model-2600-samples-feedback-data\"\n",
    " \n",
    "training_args = TrainingArguments(\n",
    "   output_dir=repo_name,\n",
    "   learning_rate=2e-5,\n",
    "   per_device_train_batch_size=16,\n",
    "   per_device_eval_batch_size=16,\n",
    "   num_train_epochs=2,\n",
    "   weight_decay=0.01,\n",
    "   save_strategy=\"epoch\",\n",
    "   push_to_hub=False,\n",
    ")\n",
    " \n",
    "trainer = Trainer(\n",
    "   model=model,\n",
    "   args=training_args,\n",
    "   train_dataset=tokenized_train,\n",
    "   eval_dataset=tokenized_test,\n",
    "   tokenizer=tokenizer,\n",
    "   data_collator=data_collator,\n",
    "   compute_metrics=compute_metrics,\n",
    ")\n"
   ]
  },
  {
   "cell_type": "code",
   "execution_count": 241,
   "id": "98b53356",
   "metadata": {},
   "outputs": [
    {
     "name": "stderr",
     "output_type": "stream",
     "text": [
      "The following columns in the training set  don't have a corresponding argument in `DistilBertForSequenceClassification.forward` and have been ignored: text.\n",
      "***** Running training *****\n",
      "  Num examples = 2676\n",
      "  Num Epochs = 2\n",
      "  Instantaneous batch size per device = 16\n",
      "  Total train batch size (w. parallel, distributed & accumulation) = 16\n",
      "  Gradient Accumulation steps = 1\n",
      "  Total optimization steps = 336\n"
     ]
    },
    {
     "data": {
      "text/html": [
       "\n",
       "    <div>\n",
       "      \n",
       "      <progress value='336' max='336' style='width:300px; height:20px; vertical-align: middle;'></progress>\n",
       "      [336/336 2:25:31, Epoch 2/2]\n",
       "    </div>\n",
       "    <table border=\"1\" class=\"dataframe\">\n",
       "  <thead>\n",
       "    <tr style=\"text-align: left;\">\n",
       "      <th>Step</th>\n",
       "      <th>Training Loss</th>\n",
       "    </tr>\n",
       "  </thead>\n",
       "  <tbody>\n",
       "  </tbody>\n",
       "</table><p>"
      ],
      "text/plain": [
       "<IPython.core.display.HTML object>"
      ]
     },
     "metadata": {},
     "output_type": "display_data"
    },
    {
     "name": "stderr",
     "output_type": "stream",
     "text": [
      "Saving model checkpoint to finetuning-sentiment-model-2600-samples-feedback-data/checkpoint-168\n",
      "Configuration saved in finetuning-sentiment-model-2600-samples-feedback-data/checkpoint-168/config.json\n",
      "Model weights saved in finetuning-sentiment-model-2600-samples-feedback-data/checkpoint-168/pytorch_model.bin\n",
      "tokenizer config file saved in finetuning-sentiment-model-2600-samples-feedback-data/checkpoint-168/tokenizer_config.json\n",
      "Special tokens file saved in finetuning-sentiment-model-2600-samples-feedback-data/checkpoint-168/special_tokens_map.json\n",
      "Saving model checkpoint to finetuning-sentiment-model-2600-samples-feedback-data/checkpoint-336\n",
      "Configuration saved in finetuning-sentiment-model-2600-samples-feedback-data/checkpoint-336/config.json\n",
      "Model weights saved in finetuning-sentiment-model-2600-samples-feedback-data/checkpoint-336/pytorch_model.bin\n",
      "tokenizer config file saved in finetuning-sentiment-model-2600-samples-feedback-data/checkpoint-336/tokenizer_config.json\n",
      "Special tokens file saved in finetuning-sentiment-model-2600-samples-feedback-data/checkpoint-336/special_tokens_map.json\n",
      "\n",
      "\n",
      "Training completed. Do not forget to share your model on huggingface.co/models =)\n",
      "\n",
      "\n"
     ]
    },
    {
     "data": {
      "text/plain": [
       "TrainOutput(global_step=336, training_loss=0.09435498146783738, metrics={'train_runtime': 8751.1256, 'train_samples_per_second': 0.612, 'train_steps_per_second': 0.038, 'total_flos': 651187998860304.0, 'train_loss': 0.09435498146783738, 'epoch': 2.0})"
      ]
     },
     "execution_count": 241,
     "metadata": {},
     "output_type": "execute_result"
    }
   ],
   "source": [
    "trainer.train()"
   ]
  },
  {
   "cell_type": "code",
   "execution_count": 242,
   "id": "d2a9d0a0",
   "metadata": {},
   "outputs": [
    {
     "name": "stderr",
     "output_type": "stream",
     "text": [
      "The following columns in the evaluation set  don't have a corresponding argument in `DistilBertForSequenceClassification.forward` and have been ignored: text.\n",
      "***** Running Evaluation *****\n",
      "  Num examples = 1148\n",
      "  Batch size = 16\n"
     ]
    },
    {
     "data": {
      "text/html": [
       "\n",
       "    <div>\n",
       "      \n",
       "      <progress value='72' max='72' style='width:300px; height:20px; vertical-align: middle;'></progress>\n",
       "      [72/72 05:35]\n",
       "    </div>\n",
       "    "
      ],
      "text/plain": [
       "<IPython.core.display.HTML object>"
      ]
     },
     "metadata": {},
     "output_type": "display_data"
    },
    {
     "data": {
      "text/plain": [
       "{'eval_loss': 0.08026587963104248,\n",
       " 'eval_accuracy': 0.980836236933798,\n",
       " 'eval_f1': 0.9902395740905058,\n",
       " 'eval_runtime': 340.9164,\n",
       " 'eval_samples_per_second': 3.367,\n",
       " 'eval_steps_per_second': 0.211,\n",
       " 'epoch': 2.0}"
      ]
     },
     "execution_count": 242,
     "metadata": {},
     "output_type": "execute_result"
    }
   ],
   "source": [
    "trainer.evaluate()"
   ]
  },
  {
   "cell_type": "code",
   "execution_count": 244,
   "id": "08201d98",
   "metadata": {},
   "outputs": [
    {
     "name": "stderr",
     "output_type": "stream",
     "text": [
      "tokenizer config file saved in ./hf_tokenizer_fine_tuned_v1_feedback/tokenizer_config.json\n",
      "Special tokens file saved in ./hf_tokenizer_fine_tuned_v1_feedback/special_tokens_map.json\n"
     ]
    },
    {
     "data": {
      "text/plain": [
       "('./hf_tokenizer_fine_tuned_v1_feedback/tokenizer_config.json',\n",
       " './hf_tokenizer_fine_tuned_v1_feedback/special_tokens_map.json',\n",
       " './hf_tokenizer_fine_tuned_v1_feedback/vocab.txt',\n",
       " './hf_tokenizer_fine_tuned_v1_feedback/added_tokens.json',\n",
       " './hf_tokenizer_fine_tuned_v1_feedback/tokenizer.json')"
      ]
     },
     "execution_count": 244,
     "metadata": {},
     "output_type": "execute_result"
    }
   ],
   "source": [
    "tokenizer.save_pretrained('./hf_tokenizer_fine_tuned_v1_feedback')"
   ]
  },
  {
   "cell_type": "code",
   "execution_count": 245,
   "id": "f47ec307",
   "metadata": {},
   "outputs": [
    {
     "name": "stderr",
     "output_type": "stream",
     "text": [
      "Configuration saved in ./hf_fine_tuned_v1_feedback/config.json\n",
      "Model weights saved in ./hf_fine_tuned_v1_feedback/pytorch_model.bin\n"
     ]
    }
   ],
   "source": [
    "model.save_pretrained('./hf_fine_tuned_v1_feedback/')"
   ]
  },
  {
   "cell_type": "code",
   "execution_count": null,
   "id": "60be61b5",
   "metadata": {},
   "outputs": [],
   "source": []
  }
 ],
 "metadata": {
  "kernelspec": {
   "display_name": "Python 3 (ipykernel)",
   "language": "python",
   "name": "python3"
  },
  "language_info": {
   "codemirror_mode": {
    "name": "ipython",
    "version": 3
   },
   "file_extension": ".py",
   "mimetype": "text/x-python",
   "name": "python",
   "nbconvert_exporter": "python",
   "pygments_lexer": "ipython3",
   "version": "3.8.12"
  }
 },
 "nbformat": 4,
 "nbformat_minor": 5
}
